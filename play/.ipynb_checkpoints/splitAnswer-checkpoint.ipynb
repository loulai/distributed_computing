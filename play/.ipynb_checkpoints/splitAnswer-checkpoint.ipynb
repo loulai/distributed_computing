{
 "cells": [
  {
   "cell_type": "code",
   "execution_count": 1,
   "metadata": {},
   "outputs": [],
   "source": [
    "from pyspark import SparkContext \n",
    "sc = SparkContext.getOrCreate()"
   ]
  },
  {
   "cell_type": "code",
   "execution_count": 2,
   "metadata": {},
   "outputs": [],
   "source": [
    "rdd = sc.textFile(\"README.md\")"
   ]
  },
  {
   "cell_type": "code",
   "execution_count": 3,
   "metadata": {},
   "outputs": [
    {
     "data": {
      "text/plain": [
       "['hello my',\n",
       " 'name ',\n",
       " 'is',\n",
       " 'Louise ',\n",
       " 'Lai',\n",
       " 'This is my readme file',\n",
       " 'This is the bestest readme file',\n",
       " 'ever',\n",
       " 'in the whole of github',\n",
       " 'sPark',\n",
       " 'SPARK spark',\n",
       " 'parky s ',\n",
       " 'sPARK!',\n",
       " 'sparkf',\n",
       " 'SPARK']"
      ]
     },
     "execution_count": 3,
     "metadata": {},
     "output_type": "execute_result"
    }
   ],
   "source": [
    "rdd.collect()"
   ]
  },
  {
   "cell_type": "code",
   "execution_count": 8,
   "metadata": {},
   "outputs": [
    {
     "data": {
      "text/plain": [
       "['hello my',\n",
       " 'name ',\n",
       " 'is',\n",
       " 'louise ',\n",
       " 'lai',\n",
       " 'this is my readme file',\n",
       " 'this is the bestest readme file',\n",
       " 'ever',\n",
       " 'in the whole of github',\n",
       " 'spark',\n",
       " 'spark spark',\n",
       " 'parky s ',\n",
       " 'spark!',\n",
       " 'sparkf',\n",
       " 'spark']"
      ]
     },
     "execution_count": 8,
     "metadata": {},
     "output_type": "execute_result"
    }
   ],
   "source": [
    "rdd.map(lambda x: x.lower()).collect()"
   ]
  },
  {
   "cell_type": "code",
   "execution_count": 4,
   "metadata": {},
   "outputs": [
    {
     "data": {
      "text/plain": [
       "[False,\n",
       " False,\n",
       " False,\n",
       " False,\n",
       " False,\n",
       " False,\n",
       " False,\n",
       " False,\n",
       " False,\n",
       " True,\n",
       " True,\n",
       " False,\n",
       " True,\n",
       " True,\n",
       " True]"
      ]
     },
     "execution_count": 4,
     "metadata": {},
     "output_type": "execute_result"
    }
   ],
   "source": [
    "rdd.map(lambda x: 'spark' in x.lower()).collect()"
   ]
  },
  {
   "cell_type": "code",
   "execution_count": 7,
   "metadata": {},
   "outputs": [
    {
     "data": {
      "text/plain": [
       "[['hello', 'my'],\n",
       " ['name', ''],\n",
       " ['is'],\n",
       " ['louise', ''],\n",
       " ['lai'],\n",
       " ['this', 'is', 'my', 'readme', 'file'],\n",
       " ['this', 'is', 'the', 'bestest', 'readme', 'file'],\n",
       " ['ever'],\n",
       " ['in', 'the', 'whole', 'of', 'github'],\n",
       " ['spark'],\n",
       " ['spark', 'spark'],\n",
       " ['parky', 's', ''],\n",
       " ['spark!'],\n",
       " ['sparkf'],\n",
       " ['spark']]"
      ]
     },
     "execution_count": 7,
     "metadata": {},
     "output_type": "execute_result"
    }
   ],
   "source": [
    "rdd.map(lambda x:  x.lower().split(\" \")).collect()"
   ]
  },
  {
   "cell_type": "code",
   "execution_count": 6,
   "metadata": {},
   "outputs": [
    {
     "data": {
      "text/plain": [
       "[False,\n",
       " False,\n",
       " False,\n",
       " False,\n",
       " False,\n",
       " False,\n",
       " False,\n",
       " False,\n",
       " False,\n",
       " True,\n",
       " True,\n",
       " False,\n",
       " False,\n",
       " False,\n",
       " True]"
      ]
     },
     "execution_count": 6,
     "metadata": {},
     "output_type": "execute_result"
    }
   ],
   "source": [
    "rdd.map(lambda x: 'spark' in x.lower().split(\" \")).collect()"
   ]
  },
  {
   "cell_type": "code",
   "execution_count": null,
   "metadata": {},
   "outputs": [],
   "source": [
    "# returns a filter of only lines with 'spark'\n",
    "print(\"---------- FILTER  ----------\")\n",
    "print(rdd.filter(lambda x: 'spark' in x.lower()).collect())\n",
    "\n",
    "# returns a filter of only lines with 'spark' (SPLIT)\n",
    "print(\"---------- FILTER on SPLIT ----------\")\n",
    "print(rdd.filter(lambda x: 'spark' in x.lower().split(\" \")).collect())"
   ]
  }
 ],
 "metadata": {
  "kernelspec": {
   "display_name": "Python 3",
   "language": "python",
   "name": "python3"
  },
  "language_info": {
   "codemirror_mode": {
    "name": "ipython",
    "version": 3
   },
   "file_extension": ".py",
   "mimetype": "text/x-python",
   "name": "python",
   "nbconvert_exporter": "python",
   "pygments_lexer": "ipython3",
   "version": "3.6.5"
  },
  "varInspector": {
   "cols": {
    "lenName": 16,
    "lenType": 16,
    "lenVar": 40
   },
   "kernels_config": {
    "python": {
     "delete_cmd_postfix": "",
     "delete_cmd_prefix": "del ",
     "library": "var_list.py",
     "varRefreshCmd": "print(var_dic_list())"
    },
    "r": {
     "delete_cmd_postfix": ") ",
     "delete_cmd_prefix": "rm(",
     "library": "var_list.r",
     "varRefreshCmd": "cat(var_dic_list()) "
    }
   },
   "types_to_exclude": [
    "module",
    "function",
    "builtin_function_or_method",
    "instance",
    "_Feature"
   ],
   "window_display": false
  }
 },
 "nbformat": 4,
 "nbformat_minor": 2
}

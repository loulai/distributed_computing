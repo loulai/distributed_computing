{
 "cells": [
  {
   "cell_type": "code",
   "execution_count": 1,
   "metadata": {},
   "outputs": [],
   "source": [
    "#import findspark\n",
    "#findspark.init()\n",
    "\n",
    "import pyspark\n",
    "import os\n",
    "\n",
    "sc = pyspark.SparkContext(appName='day2_ex02').getOrCreate() # creates a 'moment' (or something called this?)"
   ]
  },
  {
   "cell_type": "markdown",
   "metadata": {},
   "source": [
    "# What is Spark Context?"
   ]
  },
  {
   "cell_type": "code",
   "execution_count": 2,
   "metadata": {},
   "outputs": [
    {
     "data": {
      "text/html": [
       "\n",
       "        <div>\n",
       "            <p><b>SparkContext</b></p>\n",
       "\n",
       "            <p><a href=\"http://10.1.136.73:4041\">Spark UI</a></p>\n",
       "\n",
       "            <dl>\n",
       "              <dt>Version</dt>\n",
       "                <dd><code>v2.3.2</code></dd>\n",
       "              <dt>Master</dt>\n",
       "                <dd><code>local[*]</code></dd>\n",
       "              <dt>AppName</dt>\n",
       "                <dd><code>day2_ex02</code></dd>\n",
       "            </dl>\n",
       "        </div>\n",
       "        "
      ],
      "text/plain": [
       "<SparkContext master=local[*] appName=day2_ex02>"
      ]
     },
     "execution_count": 2,
     "metadata": {},
     "output_type": "execute_result"
    }
   ],
   "source": [
    "sc"
   ]
  },
  {
   "cell_type": "markdown",
   "metadata": {},
   "source": [
    "# Read lines from README.md and store in 8 partitions"
   ]
  },
  {
   "cell_type": "markdown",
   "metadata": {},
   "source": [
    "###### TODO : Change the number of partitions."
   ]
  },
  {
   "cell_type": "code",
   "execution_count": 3,
   "metadata": {},
   "outputs": [],
   "source": [
    "lines = sc.textFile(\"../Data/README.md\", 8)"
   ]
  },
  {
   "cell_type": "code",
   "execution_count": 4,
   "metadata": {},
   "outputs": [
    {
     "data": {
      "text/plain": [
       "8"
      ]
     },
     "execution_count": 4,
     "metadata": {},
     "output_type": "execute_result"
    }
   ],
   "source": [
    "lines.getNumPartitions()"
   ]
  },
  {
   "cell_type": "code",
   "execution_count": 5,
   "metadata": {},
   "outputs": [
    {
     "data": {
      "text/plain": [
       "[['# Apache Spark',\n",
       "  '',\n",
       "  'Spark is a fast and general cluster computing system for Big Data. It provides',\n",
       "  'high-level APIs in Scala, Java, Python, and R, and an optimized engine that',\n",
       "  'supports general computation graphs for data analysis. It also supports a',\n",
       "  'rich set of higher-level tools including Spark SQL for SQL and DataFrames,',\n",
       "  'MLlib for machine learning, GraphX for graph processing,',\n",
       "  'and Spark Streaming for stream processing.',\n",
       "  '',\n",
       "  '<http://spark.apache.org/>',\n",
       "  '',\n",
       "  '',\n",
       "  '## Online Documentation',\n",
       "  '',\n",
       "  'You can find the latest Spark documentation, including a programming'],\n",
       " ['guide, on the [project web page](http://spark.apache.org/documentation.html)',\n",
       "  'and [project wiki](https://cwiki.apache.org/confluence/display/SPARK).',\n",
       "  'This README file only contains basic setup instructions.',\n",
       "  '',\n",
       "  '## Building Spark',\n",
       "  '',\n",
       "  'Spark is built using [Apache Maven](http://maven.apache.org/).',\n",
       "  'To build Spark and its example programs, run:',\n",
       "  '',\n",
       "  '    build/mvn -DskipTests clean package',\n",
       "  '',\n",
       "  '(You do not need to do this if you downloaded a pre-built package.)'],\n",
       " ['',\n",
       "  'You can build Spark using more than one thread by using the -T option with Maven, see [\"Parallel builds in Maven 3\"](https://cwiki.apache.org/confluence/display/MAVEN/Parallel+builds+in+Maven+3).',\n",
       "  'More detailed documentation is available from the project site, at',\n",
       "  '[\"Building Spark\"](http://spark.apache.org/docs/latest/building-spark.html).',\n",
       "  'For developing Spark using an IDE, see [Eclipse](https://cwiki.apache.org/confluence/display/SPARK/Useful+Developer+Tools#UsefulDeveloperTools-Eclipse)'],\n",
       " ['and [IntelliJ](https://cwiki.apache.org/confluence/display/SPARK/Useful+Developer+Tools#UsefulDeveloperTools-IntelliJ).',\n",
       "  '',\n",
       "  '## Interactive Scala Shell',\n",
       "  '',\n",
       "  'The easiest way to start using Spark is through the Scala shell:',\n",
       "  '',\n",
       "  '    ./bin/spark-shell',\n",
       "  '',\n",
       "  'Try the following command, which should return 1000:',\n",
       "  '',\n",
       "  '    scala> sc.parallelize(1 to 1000).count()',\n",
       "  '',\n",
       "  '## Interactive Python Shell',\n",
       "  '',\n",
       "  'Alternatively, if you prefer Python, you can use the Python shell:'],\n",
       " ['',\n",
       "  '    ./bin/pyspark',\n",
       "  '',\n",
       "  'And run the following command, which should also return 1000:',\n",
       "  '',\n",
       "  '    >>> sc.parallelize(range(1000)).count()',\n",
       "  '',\n",
       "  '## Example Programs',\n",
       "  '',\n",
       "  'Spark also comes with several sample programs in the `examples` directory.',\n",
       "  'To run one of them, use `./bin/run-example <class> [params]`. For example:',\n",
       "  '',\n",
       "  '    ./bin/run-example SparkPi',\n",
       "  '',\n",
       "  'will run the Pi example locally.',\n",
       "  '',\n",
       "  'You can set the MASTER environment variable when running examples to submit',\n",
       "  'examples to a cluster. This can be a mesos:// or spark:// URL,'],\n",
       " ['\"yarn\" to run on YARN, and \"local\" to run',\n",
       "  'locally with one thread, or \"local[N]\" to run locally with N threads. You',\n",
       "  'can also use an abbreviated class name if the class is in the `examples`',\n",
       "  'package. For instance:',\n",
       "  '',\n",
       "  '    MASTER=spark://host:7077 ./bin/run-example SparkPi',\n",
       "  '',\n",
       "  'Many of the example programs print usage help if no params are given.',\n",
       "  '',\n",
       "  '## Running Tests',\n",
       "  '',\n",
       "  'Testing first requires [building Spark](#building-spark). Once Spark is built, tests',\n",
       "  'can be run using:'],\n",
       " ['',\n",
       "  '    ./dev/run-tests',\n",
       "  '',\n",
       "  'Please see the guidance on how to',\n",
       "  '[run tests for a module, or individual tests](https://cwiki.apache.org/confluence/display/SPARK/Useful+Developer+Tools).',\n",
       "  '',\n",
       "  '## A Note About Hadoop Versions',\n",
       "  '',\n",
       "  'Spark uses the Hadoop core library to talk to HDFS and other Hadoop-supported',\n",
       "  'storage systems. Because the protocols have changed in different versions of',\n",
       "  'Hadoop, you must build Spark against the same version that your cluster runs.',\n",
       "  '',\n",
       "  'Please refer to the build documentation at'],\n",
       " ['[\"Specifying the Hadoop Version\"](http://spark.apache.org/docs/latest/building-spark.html#specifying-the-hadoop-version)',\n",
       "  'for detailed guidance on building for a particular distribution of Hadoop, including',\n",
       "  'building for particular Hive and Hive Thriftserver distributions.',\n",
       "  '',\n",
       "  '## Configuration',\n",
       "  '',\n",
       "  'Please refer to the [Configuration Guide](http://spark.apache.org/docs/latest/configuration.html)',\n",
       "  'in the online documentation for an overview on how to configure Spark.']]"
      ]
     },
     "execution_count": 5,
     "metadata": {},
     "output_type": "execute_result"
    }
   ],
   "source": [
    "lines.glom().collect()"
   ]
  },
  {
   "cell_type": "code",
   "execution_count": 6,
   "metadata": {},
   "outputs": [],
   "source": [
    "lines_2 = sc.parallelize([\"spark\", \"spark is fun!\"], 6)"
   ]
  },
  {
   "cell_type": "code",
   "execution_count": 7,
   "metadata": {},
   "outputs": [
    {
     "data": {
      "text/plain": [
       "6"
      ]
     },
     "execution_count": 7,
     "metadata": {},
     "output_type": "execute_result"
    }
   ],
   "source": [
    "lines_2.getNumPartitions()"
   ]
  },
  {
   "cell_type": "code",
   "execution_count": 8,
   "metadata": {},
   "outputs": [
    {
     "data": {
      "text/plain": [
       "[[], [], ['spark'], [], [], ['spark is fun!']]"
      ]
     },
     "execution_count": 8,
     "metadata": {},
     "output_type": "execute_result"
    }
   ],
   "source": [
    "lines_2.glom().collect()"
   ]
  },
  {
   "cell_type": "markdown",
   "metadata": {},
   "source": [
    "# Saving distributed data"
   ]
  },
  {
   "cell_type": "code",
   "execution_count": 9,
   "metadata": {},
   "outputs": [],
   "source": [
    "lines_2.saveAsTextFile(\"ex02_output\") # Make sure to delete this folder if existing."
   ]
  },
  {
   "cell_type": "code",
   "execution_count": 10,
   "metadata": {},
   "outputs": [],
   "source": [
    "lines_2_from_part_files = sc.textFile(\"ex02_output\")"
   ]
  },
  {
   "cell_type": "code",
   "execution_count": 11,
   "metadata": {},
   "outputs": [
    {
     "data": {
      "text/plain": [
       "['spark is fun!', 'spark']"
      ]
     },
     "execution_count": 11,
     "metadata": {},
     "output_type": "execute_result"
    }
   ],
   "source": [
    "lines_2_from_part_files.collect() # part-XX files are read as a single file."
   ]
  },
  {
   "cell_type": "code",
   "execution_count": 12,
   "metadata": {},
   "outputs": [],
   "source": [
    "sc.stop()"
   ]
  },
  {
   "cell_type": "code",
   "execution_count": null,
   "metadata": {},
   "outputs": [],
   "source": []
  }
 ],
 "metadata": {
  "kernelspec": {
   "display_name": "Python 3",
   "language": "python",
   "name": "python3"
  },
  "language_info": {
   "codemirror_mode": {
    "name": "ipython",
    "version": 3
   },
   "file_extension": ".py",
   "mimetype": "text/x-python",
   "name": "python",
   "nbconvert_exporter": "python",
   "pygments_lexer": "ipython3",
   "version": "3.6.5"
  },
  "varInspector": {
   "cols": {
    "lenName": 16,
    "lenType": 16,
    "lenVar": 40
   },
   "kernels_config": {
    "python": {
     "delete_cmd_postfix": "",
     "delete_cmd_prefix": "del ",
     "library": "var_list.py",
     "varRefreshCmd": "print(var_dic_list())"
    },
    "r": {
     "delete_cmd_postfix": ") ",
     "delete_cmd_prefix": "rm(",
     "library": "var_list.r",
     "varRefreshCmd": "cat(var_dic_list()) "
    }
   },
   "types_to_exclude": [
    "module",
    "function",
    "builtin_function_or_method",
    "instance",
    "_Feature"
   ],
   "window_display": false
  }
 },
 "nbformat": 4,
 "nbformat_minor": 2
}

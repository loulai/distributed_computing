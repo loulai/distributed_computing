{
 "cells": [
  {
   "cell_type": "markdown",
   "metadata": {},
   "source": [
    "You don't need to understand the syntax for now."
   ]
  },
  {
   "cell_type": "code",
   "execution_count": 1,
   "metadata": {},
   "outputs": [],
   "source": [
    "import findspark\n",
    "findspark.init()\n",
    "\n",
    "import pyspark\n",
    "import os\n",
    "\n",
    "sc = pyspark.SparkContext(appName='day2_ex01').getOrCreate()"
   ]
  },
  {
   "cell_type": "markdown",
   "metadata": {},
   "source": [
    "Load data to 8 partitions on your local machine."
   ]
  },
  {
   "cell_type": "code",
   "execution_count": 2,
   "metadata": {},
   "outputs": [
    {
     "data": {
      "text/plain": [
       "[['4', '0', '3', '6', '8', '7', '9', '9', '8', '5', '6', '5', '6'],\n",
       " ['3', '6', '5', '1', '8', '8', '1', '5', '4', '1', '5', '8', '2'],\n",
       " ['6', '8', '8', '3', '9', '9', '0', '7', '3', '6', '0', '6'],\n",
       " ['0', '5', '9', '0', '9', '5', '9', '2', '5', '4', '8', '6', '8'],\n",
       " ['5', '1', '4', '7', '4', '0', '1', '9', '5', '3', '1', '1'],\n",
       " ['0', '0', '9', '3', '0', '5', '4', '0', '8', '0', '1', '8', '5'],\n",
       " ['7', '2', '1', '9', '3', '4', '2', '0', '2', '8', '1', '0'],\n",
       " ['0', '8', '4', '1', '0', '0', '7', '3', '8', '3', '7', '3']]"
      ]
     },
     "execution_count": 2,
     "metadata": {},
     "output_type": "execute_result"
    }
   ],
   "source": [
    "rdd = sc.textFile(\"../Data/numbers.txt\", 8)  # Load data from the file.\n",
    "rdd.glom().collect()  # See my data on the computer."
   ]
  },
  {
   "cell_type": "markdown",
   "metadata": {},
   "source": [
    "Convert data to integer"
   ]
  },
  {
   "cell_type": "code",
   "execution_count": 3,
   "metadata": {},
   "outputs": [
    {
     "data": {
      "text/plain": [
       "[[4, 0, 3, 6, 8, 7, 9, 9, 8, 5, 6, 5, 6],\n",
       " [3, 6, 5, 1, 8, 8, 1, 5, 4, 1, 5, 8, 2],\n",
       " [6, 8, 8, 3, 9, 9, 0, 7, 3, 6, 0, 6],\n",
       " [0, 5, 9, 0, 9, 5, 9, 2, 5, 4, 8, 6, 8],\n",
       " [5, 1, 4, 7, 4, 0, 1, 9, 5, 3, 1, 1],\n",
       " [0, 0, 9, 3, 0, 5, 4, 0, 8, 0, 1, 8, 5],\n",
       " [7, 2, 1, 9, 3, 4, 2, 0, 2, 8, 1, 0],\n",
       " [0, 8, 4, 1, 0, 0, 7, 3, 8, 3, 7, 3]]"
      ]
     },
     "execution_count": 3,
     "metadata": {},
     "output_type": "execute_result"
    }
   ],
   "source": [
    "converted_rdd = rdd.map(lambda x: int(x))\n",
    "converted_rdd.glom().collect()"
   ]
  },
  {
   "cell_type": "markdown",
   "metadata": {},
   "source": [
    " Filter data which value is greater than / equal to 8"
   ]
  },
  {
   "cell_type": "code",
   "execution_count": 4,
   "metadata": {},
   "outputs": [
    {
     "data": {
      "text/plain": [
       "[[8, 9, 9, 8],\n",
       " [8, 8, 8],\n",
       " [8, 8, 9, 9],\n",
       " [9, 9, 9, 8, 8],\n",
       " [9],\n",
       " [9, 8, 8],\n",
       " [9, 8],\n",
       " [8, 8]]"
      ]
     },
     "execution_count": 4,
     "metadata": {},
     "output_type": "execute_result"
    }
   ],
   "source": [
    "filtered_rdd = converted_rdd.filter(lambda x: x >= 8)\n",
    "filtered_rdd.glom().collect()"
   ]
  },
  {
   "cell_type": "markdown",
   "metadata": {},
   "source": [
    "Add values using reduce()"
   ]
  },
  {
   "cell_type": "code",
   "execution_count": 5,
   "metadata": {},
   "outputs": [
    {
     "data": {
      "text/plain": [
       "202"
      ]
     },
     "execution_count": 5,
     "metadata": {},
     "output_type": "execute_result"
    }
   ],
   "source": [
    "filtered_rdd.reduce(lambda x, y: x+y)"
   ]
  },
  {
   "cell_type": "code",
   "execution_count": 6,
   "metadata": {},
   "outputs": [
    {
     "data": {
      "text/plain": [
       "100"
      ]
     },
     "execution_count": 6,
     "metadata": {},
     "output_type": "execute_result"
    }
   ],
   "source": [
    "rdd.count()"
   ]
  },
  {
   "cell_type": "code",
   "execution_count": null,
   "metadata": {},
   "outputs": [],
   "source": []
  }
 ],
 "metadata": {
  "kernelspec": {
   "display_name": "Python 3",
   "language": "python",
   "name": "python3"
  },
  "language_info": {
   "codemirror_mode": {
    "name": "ipython",
    "version": 3
   },
   "file_extension": ".py",
   "mimetype": "text/x-python",
   "name": "python",
   "nbconvert_exporter": "python",
   "pygments_lexer": "ipython3",
   "version": "3.6.6"
  }
 },
 "nbformat": 4,
 "nbformat_minor": 2
}
